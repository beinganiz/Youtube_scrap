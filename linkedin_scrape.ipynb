{
  "cells": [
    {
      "cell_type": "markdown",
      "metadata": {
        "id": "view-in-github",
        "colab_type": "text"
      },
      "source": [
        "<a href=\"https://colab.research.google.com/github/beinganiz/selenium-you/blob/main/linkedin_scrape.ipynb\" target=\"_parent\"><img src=\"https://colab.research.google.com/assets/colab-badge.svg\" alt=\"Open In Colab\"/></a>"
      ]
    },
    {
      "cell_type": "markdown",
      "metadata": {
        "id": "8Ef_I477UA4R"
      },
      "source": [
        "# linkedin-scrape\n",
        "\n",
        "Use the \"Run\" button to execute the code."
      ]
    },
    {
      "cell_type": "code",
      "execution_count": 1,
      "metadata": {
        "colab": {
          "base_uri": "https://localhost:8080/"
        },
        "id": "7NpBFNhxUA4V",
        "outputId": "45453759-6eb8-4eba-9b67-e2eeed3a2275"
      },
      "outputs": [
        {
          "output_type": "stream",
          "name": "stdout",
          "text": [
            "Collecting chromedriver\n",
            "  Downloading chromedriver-2.24.1-py2.py3-none-any.whl (14.3 MB)\n",
            "\u001b[2K     \u001b[90m━━━━━━━━━━━━━━━━━━━━━━━━━━━━━━━━━━━━━━━━\u001b[0m \u001b[32m14.3/14.3 MB\u001b[0m \u001b[31m71.0 MB/s\u001b[0m eta \u001b[36m0:00:00\u001b[0m\n",
            "\u001b[?25hInstalling collected packages: chromedriver\n",
            "Successfully installed chromedriver-2.24.1\n"
          ]
        }
      ],
      "source": [
        "pip install chromedriver"
      ]
    },
    {
      "cell_type": "code",
      "execution_count": 2,
      "metadata": {
        "colab": {
          "base_uri": "https://localhost:8080/"
        },
        "id": "feN8uxGxUI41",
        "outputId": "e349a453-072c-4579-9b12-ec77f5a855a1"
      },
      "outputs": [
        {
          "output_type": "stream",
          "name": "stdout",
          "text": [
            "Collecting selenium\n",
            "  Downloading selenium-4.14.0-py3-none-any.whl (9.9 MB)\n",
            "\u001b[2K     \u001b[90m━━━━━━━━━━━━━━━━━━━━━━━━━━━━━━━━━━━━━━━━\u001b[0m \u001b[32m9.9/9.9 MB\u001b[0m \u001b[31m44.1 MB/s\u001b[0m eta \u001b[36m0:00:00\u001b[0m\n",
            "\u001b[?25hRequirement already satisfied: urllib3[socks]<3,>=1.26 in /usr/local/lib/python3.10/dist-packages (from selenium) (2.0.6)\n",
            "Collecting trio~=0.17 (from selenium)\n",
            "  Downloading trio-0.22.2-py3-none-any.whl (400 kB)\n",
            "\u001b[2K     \u001b[90m━━━━━━━━━━━━━━━━━━━━━━━━━━━━━━━━━━━━━━━━\u001b[0m \u001b[32m400.2/400.2 kB\u001b[0m \u001b[31m35.5 MB/s\u001b[0m eta \u001b[36m0:00:00\u001b[0m\n",
            "\u001b[?25hCollecting trio-websocket~=0.9 (from selenium)\n",
            "  Downloading trio_websocket-0.11.1-py3-none-any.whl (17 kB)\n",
            "Requirement already satisfied: certifi>=2021.10.8 in /usr/local/lib/python3.10/dist-packages (from selenium) (2023.7.22)\n",
            "Requirement already satisfied: attrs>=20.1.0 in /usr/local/lib/python3.10/dist-packages (from trio~=0.17->selenium) (23.1.0)\n",
            "Requirement already satisfied: sortedcontainers in /usr/local/lib/python3.10/dist-packages (from trio~=0.17->selenium) (2.4.0)\n",
            "Requirement already satisfied: idna in /usr/local/lib/python3.10/dist-packages (from trio~=0.17->selenium) (3.4)\n",
            "Collecting outcome (from trio~=0.17->selenium)\n",
            "  Downloading outcome-1.3.0-py2.py3-none-any.whl (10 kB)\n",
            "Requirement already satisfied: sniffio in /usr/local/lib/python3.10/dist-packages (from trio~=0.17->selenium) (1.3.0)\n",
            "Requirement already satisfied: exceptiongroup>=1.0.0rc9 in /usr/local/lib/python3.10/dist-packages (from trio~=0.17->selenium) (1.1.3)\n",
            "Collecting wsproto>=0.14 (from trio-websocket~=0.9->selenium)\n",
            "  Downloading wsproto-1.2.0-py3-none-any.whl (24 kB)\n",
            "Requirement already satisfied: pysocks!=1.5.7,<2.0,>=1.5.6 in /usr/local/lib/python3.10/dist-packages (from urllib3[socks]<3,>=1.26->selenium) (1.7.1)\n",
            "Collecting h11<1,>=0.9.0 (from wsproto>=0.14->trio-websocket~=0.9->selenium)\n",
            "  Downloading h11-0.14.0-py3-none-any.whl (58 kB)\n",
            "\u001b[2K     \u001b[90m━━━━━━━━━━━━━━━━━━━━━━━━━━━━━━━━━━━━━━━━\u001b[0m \u001b[32m58.3/58.3 kB\u001b[0m \u001b[31m8.9 MB/s\u001b[0m eta \u001b[36m0:00:00\u001b[0m\n",
            "\u001b[?25hInstalling collected packages: outcome, h11, wsproto, trio, trio-websocket, selenium\n",
            "Successfully installed h11-0.14.0 outcome-1.3.0 selenium-4.14.0 trio-0.22.2 trio-websocket-0.11.1 wsproto-1.2.0\n"
          ]
        }
      ],
      "source": [
        "pip install selenium"
      ]
    },
    {
      "cell_type": "code",
      "source": [
        "pip install TIME-python"
      ],
      "metadata": {
        "colab": {
          "base_uri": "https://localhost:8080/"
        },
        "id": "3v-JldWXVG0e",
        "outputId": "ac64414f-907d-48a7-e141-ee8dc14e0204"
      },
      "execution_count": 3,
      "outputs": [
        {
          "output_type": "stream",
          "name": "stdout",
          "text": [
            "Collecting TIME-python\n",
            "  Downloading TIME-python-0.0.17.tar.gz (27 kB)\n",
            "  Preparing metadata (setup.py) ... \u001b[?25l\u001b[?25hdone\n",
            "Collecting dipy (from TIME-python)\n",
            "  Downloading dipy-1.7.0-cp310-cp310-manylinux_2_17_x86_64.manylinux2014_x86_64.whl (8.7 MB)\n",
            "\u001b[2K     \u001b[90m━━━━━━━━━━━━━━━━━━━━━━━━━━━━━━━━━━━━━━━━\u001b[0m \u001b[32m8.7/8.7 MB\u001b[0m \u001b[31m47.2 MB/s\u001b[0m eta \u001b[36m0:00:00\u001b[0m\n",
            "\u001b[?25hRequirement already satisfied: nibabel in /usr/local/lib/python3.10/dist-packages (from TIME-python) (4.0.2)\n",
            "Requirement already satisfied: numpy in /usr/local/lib/python3.10/dist-packages (from TIME-python) (1.23.5)\n",
            "Requirement already satisfied: scipy in /usr/local/lib/python3.10/dist-packages (from TIME-python) (1.11.3)\n",
            "Requirement already satisfied: h5py>=2.8.0 in /usr/local/lib/python3.10/dist-packages (from dipy->TIME-python) (3.9.0)\n",
            "Requirement already satisfied: tqdm>=4.30.0 in /usr/local/lib/python3.10/dist-packages (from dipy->TIME-python) (4.66.1)\n",
            "Requirement already satisfied: packaging>=17.0 in /usr/local/lib/python3.10/dist-packages (from nibabel->TIME-python) (23.2)\n",
            "Requirement already satisfied: setuptools in /usr/local/lib/python3.10/dist-packages (from nibabel->TIME-python) (67.7.2)\n",
            "Building wheels for collected packages: TIME-python\n",
            "  Building wheel for TIME-python (setup.py) ... \u001b[?25l\u001b[?25hdone\n",
            "  Created wheel for TIME-python: filename=TIME_python-0.0.17-py3-none-any.whl size=27380 sha256=ab299ea78fd1fcb733d68ec1c94d34bceed28e15807b53517474c20c1513a84e\n",
            "  Stored in directory: /root/.cache/pip/wheels/f8/d1/96/64cb830c1935e07f9eaa84675562557da274c6e141c497abc9\n",
            "Successfully built TIME-python\n",
            "Installing collected packages: dipy, TIME-python\n",
            "Successfully installed TIME-python-0.0.17 dipy-1.7.0\n"
          ]
        }
      ]
    },
    {
      "cell_type": "code",
      "execution_count": 4,
      "metadata": {
        "id": "tNt4__XTULR9"
      },
      "outputs": [],
      "source": [
        "from selenium import webdriver\n",
        "import time\n",
        "import pandas as pd\n",
        "import os\n",
        "from selenium.webdriver.support.select import Select\n",
        "from selenium.webdriver.support.ui import WebDriverWait\n",
        "from selenium.webdriver.common.by import By\n",
        "from selenium.webdriver.support import expected_conditions as EC\n",
        "from selenium.webdriver.chrome.options import Options"
      ]
    },
    {
      "cell_type": "code",
      "execution_count": null,
      "metadata": {
        "id": "b13R1nn9tj1D"
      },
      "outputs": [],
      "source": []
    },
    {
      "cell_type": "markdown",
      "metadata": {
        "id": "XWwSoXa5tkoO"
      },
      "source": [
        "##Function Area"
      ]
    },
    {
      "cell_type": "code",
      "execution_count": 6,
      "metadata": {
        "id": "ubvTXS6XUw7m"
      },
      "outputs": [],
      "source": [
        "def driver_update():\n",
        "  chrome_options = Options()\n",
        "  chrome_options.add_argument('--no-sandbox')\n",
        "  chrome_options.add_argument('--disable-dev-shm-usage')\n",
        "  chrome_options.add_argument('--headless')\n",
        "  driver = webdriver.Chrome(options=chrome_options)\n",
        "  return driver\n",
        "\n",
        "def check(val):\n",
        "  if val[-1:]=='+':\n",
        "    val=val[:-1]\n",
        "  return val"
      ]
    },
    {
      "cell_type": "code",
      "source": [
        "def fetching_all(jobs):\n",
        "  dict = {'JOB_TITLE': [], 'Company_Name': [], 'link': [], 'Location': [], 'Time':[]}\n",
        "  company_class = 'base-search-card__subtitle'\n",
        "  job_class = 'base-search-card__title'\n",
        "  loc_class = 'job-search-card__location'\n",
        "  time_class = 'job-search-card__listdate'\n",
        "\n",
        "    # Find elements for job listings\n",
        "  link = driver.find_elements(By.CLASS_NAME, 'hidden-nested-link')\n",
        "  title = driver.find_elements(By.CLASS_NAME, job_class)\n",
        "  company = driver.find_elements(By.CLASS_NAME, company_class)\n",
        "  loc = driver.find_elements(By.CLASS_NAME, loc_class)\n",
        "  time = driver.find_elements(By.CLASS_NAME, time_class)\n",
        "  i=2\n",
        "  while i<=jobs:\n",
        "    try:\n",
        "          driver.execute_script(\"window.scrollTo(0, document.body.scrollHeight);\")\n",
        "          for job_index in range(jobs):\n",
        "              if job_index < len(title):\n",
        "                  dict['JOB_TITLE'].append(title[job_index].text)\n",
        "              else:\n",
        "                  dict['JOB_TITLE'].append(None)\n",
        "\n",
        "              if job_index < len(company):\n",
        "                  dict['Company_Name'].append(company[job_index].text)\n",
        "              else:\n",
        "                  dict['Company_Name'].append(None)\n",
        "\n",
        "              if job_index < len(link):\n",
        "                  dict['link'].append(link[job_index].get_attribute('href'))\n",
        "              else:\n",
        "                  dict['link'].append(None)\n",
        "\n",
        "              if job_index < len(loc):\n",
        "                  dict['Location'].append(loc[job_index].text)\n",
        "              else:\n",
        "                  dict['Location'].append(None)\n",
        "\n",
        "              if job_index < len(time):\n",
        "                  dict['Time'].append(time[job_index].text)\n",
        "              else:\n",
        "                  dict['Time'].append(None)\n",
        "                x=driver.find_element(By.XPATH, \"//button[@aria-label='See more jobs']\")\n",
        "          driver.execute_script(\"arguments[0].click();\", x)\n",
        "          time.sleep(3)\n",
        "    except:\n",
        "      break\n",
        "\n",
        "  return dict\n"
      ],
      "metadata": {
        "id": "0O7hkK7aR-w0"
      },
      "execution_count": 7,
      "outputs": []
    },
    {
      "cell_type": "code",
      "source": [],
      "metadata": {
        "id": "6Jko7f_PbgkA"
      },
      "execution_count": null,
      "outputs": []
    },
    {
      "cell_type": "code",
      "execution_count": null,
      "metadata": {
        "id": "IALozNN1VLDD"
      },
      "outputs": [],
      "source": [
        "url1='https://www.linkedin.com/jobs/search?keywords=Marketing%20Data%20Analyst&location=India%2C%20Berlin%2C%20Germany&geoI'\n",
        "url2='https://www.linkedin.com/jobs/search?keywords=Marketing%20Data%20Analyst&location=india&geoId=&trk=public_jobs_jobs-search-bar_search-submit&position=1&pageNum=0'\n",
        "if __name__==\"__main__\":\n",
        "  driver=driver_update()\n",
        "  driver.implicitly_wait(10)\n",
        "\n",
        "driver.get(url2)\n",
        "jobs_class='results-context-header__job-count'\n"
      ]
    },
    {
      "cell_type": "code",
      "execution_count": null,
      "metadata": {
        "colab": {
          "base_uri": "https://localhost:8080/"
        },
        "id": "8ggp9c6ZxmHQ",
        "outputId": "ef0985be-b7ea-4114-cb95-e2f080221808"
      },
      "outputs": [
        {
          "output_type": "execute_result",
          "data": {
            "text/plain": [
              "1000"
            ]
          },
          "metadata": {},
          "execution_count": 134
        }
      ],
      "source": [
        "length=driver.find_element(By.CLASS_NAME,jobs_class)\n",
        "dd=int(check(length.text).replace(',',''))\n",
        "dd"
      ]
    },
    {
      "cell_type": "code",
      "execution_count": null,
      "metadata": {
        "id": "3x4MS0rwWlx2"
      },
      "outputs": [],
      "source": [
        "\n"
      ]
    },
    {
      "cell_type": "code",
      "execution_count": null,
      "metadata": {
        "id": "OUw7sZIjsAk4"
      },
      "outputs": [],
      "source": [
        "fd=fetching_all(dd)\n",
        "data=pd.DataFrame(fd)"
      ]
    },
    {
      "cell_type": "code",
      "execution_count": null,
      "metadata": {
        "id": "nz-GJqrXs_m7"
      },
      "outputs": [],
      "source": [
        "data.to_csv('data.csv')\n"
      ]
    },
    {
      "cell_type": "code",
      "execution_count": null,
      "metadata": {
        "id": "J6tVOkwcuFit",
        "colab": {
          "base_uri": "https://localhost:8080/",
          "height": 842
        },
        "outputId": "d3cbf98c-5e68-48ac-cdc0-b13fca16c095"
      },
      "outputs": [
        {
          "output_type": "execute_result",
          "data": {
            "text/plain": [
              "                                            JOB_TITLE  \\\n",
              "0         Assistant Manager - Data / Business Analyst   \n",
              "1               Data Analyst – Supply Chain- Power BI   \n",
              "2                               Business Data Analyst   \n",
              "3   Analyst / Sr Analyst - Performance Marketing A...   \n",
              "4   Interesting Job Opportunity: Arzooo - Business...   \n",
              "..                                                ...   \n",
              "73                                  Marketing Analyst   \n",
              "74  Business Analysis/ Business Systems Analysis -...   \n",
              "75                                                N/A   \n",
              "76                                                N/A   \n",
              "77                                                N/A   \n",
              "\n",
              "                                         Company_Name  \\\n",
              "0                                        Tata Cummins   \n",
              "1   Dubai Jobs, Gulf Jobs, Jobs in Dubai, Qatar, K...   \n",
              "2                                            Anblicks   \n",
              "3                              Global Talent Exchange   \n",
              "4                                              Arzooo   \n",
              "..                                                ...   \n",
              "73                                Peppermint Robotics   \n",
              "74  Dubai Jobs, Gulf Jobs, Jobs in Dubai, Qatar, K...   \n",
              "75                                                N/A   \n",
              "76                                                N/A   \n",
              "77                                                N/A   \n",
              "\n",
              "                                                 link  \\\n",
              "0   https://www.linkedin.com/company/tata-cummins?...   \n",
              "1   https://in.linkedin.com/company/boyenhaddin?tr...   \n",
              "2   https://www.linkedin.com/company/anblicks?trk=...   \n",
              "3   https://in.linkedin.com/company/globaltalex?tr...   \n",
              "4   https://in.linkedin.com/company/arzooo?trk=pub...   \n",
              "..                                                ...   \n",
              "73                                                N/A   \n",
              "74                                                N/A   \n",
              "75                                                N/A   \n",
              "76                                                N/A   \n",
              "77                                                N/A   \n",
              "\n",
              "                             Location          Time  \n",
              "0         Noida, Uttar Pradesh, India    1 week ago  \n",
              "1          Pune/Pimpri-Chinchwad Area    1 week ago  \n",
              "2         Hyderabad, Telangana, India    6 days ago  \n",
              "3          Mumbai, Maharashtra, India  2 months ago  \n",
              "4         Bengaluru, Karnataka, India    2 days ago  \n",
              "..                                ...           ...  \n",
              "73           Pune, Maharashtra, India           N/A  \n",
              "74  Bangalore Urban, Karnataka, India           N/A  \n",
              "75                                N/A           N/A  \n",
              "76                                N/A           N/A  \n",
              "77                                N/A           N/A  \n",
              "\n",
              "[78 rows x 5 columns]"
            ],
            "text/html": [
              "\n",
              "  <div id=\"df-49ffcd84-b95b-4926-8dfa-73d3c83a8146\" class=\"colab-df-container\">\n",
              "    <div>\n",
              "<style scoped>\n",
              "    .dataframe tbody tr th:only-of-type {\n",
              "        vertical-align: middle;\n",
              "    }\n",
              "\n",
              "    .dataframe tbody tr th {\n",
              "        vertical-align: top;\n",
              "    }\n",
              "\n",
              "    .dataframe thead th {\n",
              "        text-align: right;\n",
              "    }\n",
              "</style>\n",
              "<table border=\"1\" class=\"dataframe\">\n",
              "  <thead>\n",
              "    <tr style=\"text-align: right;\">\n",
              "      <th></th>\n",
              "      <th>JOB_TITLE</th>\n",
              "      <th>Company_Name</th>\n",
              "      <th>link</th>\n",
              "      <th>Location</th>\n",
              "      <th>Time</th>\n",
              "    </tr>\n",
              "  </thead>\n",
              "  <tbody>\n",
              "    <tr>\n",
              "      <th>0</th>\n",
              "      <td>Assistant Manager - Data / Business Analyst</td>\n",
              "      <td>Tata Cummins</td>\n",
              "      <td>https://www.linkedin.com/company/tata-cummins?...</td>\n",
              "      <td>Noida, Uttar Pradesh, India</td>\n",
              "      <td>1 week ago</td>\n",
              "    </tr>\n",
              "    <tr>\n",
              "      <th>1</th>\n",
              "      <td>Data Analyst – Supply Chain- Power BI</td>\n",
              "      <td>Dubai Jobs, Gulf Jobs, Jobs in Dubai, Qatar, K...</td>\n",
              "      <td>https://in.linkedin.com/company/boyenhaddin?tr...</td>\n",
              "      <td>Pune/Pimpri-Chinchwad Area</td>\n",
              "      <td>1 week ago</td>\n",
              "    </tr>\n",
              "    <tr>\n",
              "      <th>2</th>\n",
              "      <td>Business Data Analyst</td>\n",
              "      <td>Anblicks</td>\n",
              "      <td>https://www.linkedin.com/company/anblicks?trk=...</td>\n",
              "      <td>Hyderabad, Telangana, India</td>\n",
              "      <td>6 days ago</td>\n",
              "    </tr>\n",
              "    <tr>\n",
              "      <th>3</th>\n",
              "      <td>Analyst / Sr Analyst - Performance Marketing A...</td>\n",
              "      <td>Global Talent Exchange</td>\n",
              "      <td>https://in.linkedin.com/company/globaltalex?tr...</td>\n",
              "      <td>Mumbai, Maharashtra, India</td>\n",
              "      <td>2 months ago</td>\n",
              "    </tr>\n",
              "    <tr>\n",
              "      <th>4</th>\n",
              "      <td>Interesting Job Opportunity: Arzooo - Business...</td>\n",
              "      <td>Arzooo</td>\n",
              "      <td>https://in.linkedin.com/company/arzooo?trk=pub...</td>\n",
              "      <td>Bengaluru, Karnataka, India</td>\n",
              "      <td>2 days ago</td>\n",
              "    </tr>\n",
              "    <tr>\n",
              "      <th>...</th>\n",
              "      <td>...</td>\n",
              "      <td>...</td>\n",
              "      <td>...</td>\n",
              "      <td>...</td>\n",
              "      <td>...</td>\n",
              "    </tr>\n",
              "    <tr>\n",
              "      <th>73</th>\n",
              "      <td>Marketing Analyst</td>\n",
              "      <td>Peppermint Robotics</td>\n",
              "      <td>N/A</td>\n",
              "      <td>Pune, Maharashtra, India</td>\n",
              "      <td>N/A</td>\n",
              "    </tr>\n",
              "    <tr>\n",
              "      <th>74</th>\n",
              "      <td>Business Analysis/ Business Systems Analysis -...</td>\n",
              "      <td>Dubai Jobs, Gulf Jobs, Jobs in Dubai, Qatar, K...</td>\n",
              "      <td>N/A</td>\n",
              "      <td>Bangalore Urban, Karnataka, India</td>\n",
              "      <td>N/A</td>\n",
              "    </tr>\n",
              "    <tr>\n",
              "      <th>75</th>\n",
              "      <td>N/A</td>\n",
              "      <td>N/A</td>\n",
              "      <td>N/A</td>\n",
              "      <td>N/A</td>\n",
              "      <td>N/A</td>\n",
              "    </tr>\n",
              "    <tr>\n",
              "      <th>76</th>\n",
              "      <td>N/A</td>\n",
              "      <td>N/A</td>\n",
              "      <td>N/A</td>\n",
              "      <td>N/A</td>\n",
              "      <td>N/A</td>\n",
              "    </tr>\n",
              "    <tr>\n",
              "      <th>77</th>\n",
              "      <td>N/A</td>\n",
              "      <td>N/A</td>\n",
              "      <td>N/A</td>\n",
              "      <td>N/A</td>\n",
              "      <td>N/A</td>\n",
              "    </tr>\n",
              "  </tbody>\n",
              "</table>\n",
              "<p>78 rows × 5 columns</p>\n",
              "</div>\n",
              "    <div class=\"colab-df-buttons\">\n",
              "\n",
              "  <div class=\"colab-df-container\">\n",
              "    <button class=\"colab-df-convert\" onclick=\"convertToInteractive('df-49ffcd84-b95b-4926-8dfa-73d3c83a8146')\"\n",
              "            title=\"Convert this dataframe to an interactive table.\"\n",
              "            style=\"display:none;\">\n",
              "\n",
              "  <svg xmlns=\"http://www.w3.org/2000/svg\" height=\"24px\" viewBox=\"0 -960 960 960\">\n",
              "    <path d=\"M120-120v-720h720v720H120Zm60-500h600v-160H180v160Zm220 220h160v-160H400v160Zm0 220h160v-160H400v160ZM180-400h160v-160H180v160Zm440 0h160v-160H620v160ZM180-180h160v-160H180v160Zm440 0h160v-160H620v160Z\"/>\n",
              "  </svg>\n",
              "    </button>\n",
              "\n",
              "  <style>\n",
              "    .colab-df-container {\n",
              "      display:flex;\n",
              "      gap: 12px;\n",
              "    }\n",
              "\n",
              "    .colab-df-convert {\n",
              "      background-color: #E8F0FE;\n",
              "      border: none;\n",
              "      border-radius: 50%;\n",
              "      cursor: pointer;\n",
              "      display: none;\n",
              "      fill: #1967D2;\n",
              "      height: 32px;\n",
              "      padding: 0 0 0 0;\n",
              "      width: 32px;\n",
              "    }\n",
              "\n",
              "    .colab-df-convert:hover {\n",
              "      background-color: #E2EBFA;\n",
              "      box-shadow: 0px 1px 2px rgba(60, 64, 67, 0.3), 0px 1px 3px 1px rgba(60, 64, 67, 0.15);\n",
              "      fill: #174EA6;\n",
              "    }\n",
              "\n",
              "    .colab-df-buttons div {\n",
              "      margin-bottom: 4px;\n",
              "    }\n",
              "\n",
              "    [theme=dark] .colab-df-convert {\n",
              "      background-color: #3B4455;\n",
              "      fill: #D2E3FC;\n",
              "    }\n",
              "\n",
              "    [theme=dark] .colab-df-convert:hover {\n",
              "      background-color: #434B5C;\n",
              "      box-shadow: 0px 1px 3px 1px rgba(0, 0, 0, 0.15);\n",
              "      filter: drop-shadow(0px 1px 2px rgba(0, 0, 0, 0.3));\n",
              "      fill: #FFFFFF;\n",
              "    }\n",
              "  </style>\n",
              "\n",
              "    <script>\n",
              "      const buttonEl =\n",
              "        document.querySelector('#df-49ffcd84-b95b-4926-8dfa-73d3c83a8146 button.colab-df-convert');\n",
              "      buttonEl.style.display =\n",
              "        google.colab.kernel.accessAllowed ? 'block' : 'none';\n",
              "\n",
              "      async function convertToInteractive(key) {\n",
              "        const element = document.querySelector('#df-49ffcd84-b95b-4926-8dfa-73d3c83a8146');\n",
              "        const dataTable =\n",
              "          await google.colab.kernel.invokeFunction('convertToInteractive',\n",
              "                                                    [key], {});\n",
              "        if (!dataTable) return;\n",
              "\n",
              "        const docLinkHtml = 'Like what you see? Visit the ' +\n",
              "          '<a target=\"_blank\" href=https://colab.research.google.com/notebooks/data_table.ipynb>data table notebook</a>'\n",
              "          + ' to learn more about interactive tables.';\n",
              "        element.innerHTML = '';\n",
              "        dataTable['output_type'] = 'display_data';\n",
              "        await google.colab.output.renderOutput(dataTable, element);\n",
              "        const docLink = document.createElement('div');\n",
              "        docLink.innerHTML = docLinkHtml;\n",
              "        element.appendChild(docLink);\n",
              "      }\n",
              "    </script>\n",
              "  </div>\n",
              "\n",
              "\n",
              "<div id=\"df-2cd43def-6bf6-4c0a-9dc0-c35ff6bc80ae\">\n",
              "  <button class=\"colab-df-quickchart\" onclick=\"quickchart('df-2cd43def-6bf6-4c0a-9dc0-c35ff6bc80ae')\"\n",
              "            title=\"Suggest charts.\"\n",
              "            style=\"display:none;\">\n",
              "\n",
              "<svg xmlns=\"http://www.w3.org/2000/svg\" height=\"24px\"viewBox=\"0 0 24 24\"\n",
              "     width=\"24px\">\n",
              "    <g>\n",
              "        <path d=\"M19 3H5c-1.1 0-2 .9-2 2v14c0 1.1.9 2 2 2h14c1.1 0 2-.9 2-2V5c0-1.1-.9-2-2-2zM9 17H7v-7h2v7zm4 0h-2V7h2v10zm4 0h-2v-4h2v4z\"/>\n",
              "    </g>\n",
              "</svg>\n",
              "  </button>\n",
              "\n",
              "<style>\n",
              "  .colab-df-quickchart {\n",
              "      --bg-color: #E8F0FE;\n",
              "      --fill-color: #1967D2;\n",
              "      --hover-bg-color: #E2EBFA;\n",
              "      --hover-fill-color: #174EA6;\n",
              "      --disabled-fill-color: #AAA;\n",
              "      --disabled-bg-color: #DDD;\n",
              "  }\n",
              "\n",
              "  [theme=dark] .colab-df-quickchart {\n",
              "      --bg-color: #3B4455;\n",
              "      --fill-color: #D2E3FC;\n",
              "      --hover-bg-color: #434B5C;\n",
              "      --hover-fill-color: #FFFFFF;\n",
              "      --disabled-bg-color: #3B4455;\n",
              "      --disabled-fill-color: #666;\n",
              "  }\n",
              "\n",
              "  .colab-df-quickchart {\n",
              "    background-color: var(--bg-color);\n",
              "    border: none;\n",
              "    border-radius: 50%;\n",
              "    cursor: pointer;\n",
              "    display: none;\n",
              "    fill: var(--fill-color);\n",
              "    height: 32px;\n",
              "    padding: 0;\n",
              "    width: 32px;\n",
              "  }\n",
              "\n",
              "  .colab-df-quickchart:hover {\n",
              "    background-color: var(--hover-bg-color);\n",
              "    box-shadow: 0 1px 2px rgba(60, 64, 67, 0.3), 0 1px 3px 1px rgba(60, 64, 67, 0.15);\n",
              "    fill: var(--button-hover-fill-color);\n",
              "  }\n",
              "\n",
              "  .colab-df-quickchart-complete:disabled,\n",
              "  .colab-df-quickchart-complete:disabled:hover {\n",
              "    background-color: var(--disabled-bg-color);\n",
              "    fill: var(--disabled-fill-color);\n",
              "    box-shadow: none;\n",
              "  }\n",
              "\n",
              "  .colab-df-spinner {\n",
              "    border: 2px solid var(--fill-color);\n",
              "    border-color: transparent;\n",
              "    border-bottom-color: var(--fill-color);\n",
              "    animation:\n",
              "      spin 1s steps(1) infinite;\n",
              "  }\n",
              "\n",
              "  @keyframes spin {\n",
              "    0% {\n",
              "      border-color: transparent;\n",
              "      border-bottom-color: var(--fill-color);\n",
              "      border-left-color: var(--fill-color);\n",
              "    }\n",
              "    20% {\n",
              "      border-color: transparent;\n",
              "      border-left-color: var(--fill-color);\n",
              "      border-top-color: var(--fill-color);\n",
              "    }\n",
              "    30% {\n",
              "      border-color: transparent;\n",
              "      border-left-color: var(--fill-color);\n",
              "      border-top-color: var(--fill-color);\n",
              "      border-right-color: var(--fill-color);\n",
              "    }\n",
              "    40% {\n",
              "      border-color: transparent;\n",
              "      border-right-color: var(--fill-color);\n",
              "      border-top-color: var(--fill-color);\n",
              "    }\n",
              "    60% {\n",
              "      border-color: transparent;\n",
              "      border-right-color: var(--fill-color);\n",
              "    }\n",
              "    80% {\n",
              "      border-color: transparent;\n",
              "      border-right-color: var(--fill-color);\n",
              "      border-bottom-color: var(--fill-color);\n",
              "    }\n",
              "    90% {\n",
              "      border-color: transparent;\n",
              "      border-bottom-color: var(--fill-color);\n",
              "    }\n",
              "  }\n",
              "</style>\n",
              "\n",
              "  <script>\n",
              "    async function quickchart(key) {\n",
              "      const quickchartButtonEl =\n",
              "        document.querySelector('#' + key + ' button');\n",
              "      quickchartButtonEl.disabled = true;  // To prevent multiple clicks.\n",
              "      quickchartButtonEl.classList.add('colab-df-spinner');\n",
              "      try {\n",
              "        const charts = await google.colab.kernel.invokeFunction(\n",
              "            'suggestCharts', [key], {});\n",
              "      } catch (error) {\n",
              "        console.error('Error during call to suggestCharts:', error);\n",
              "      }\n",
              "      quickchartButtonEl.classList.remove('colab-df-spinner');\n",
              "      quickchartButtonEl.classList.add('colab-df-quickchart-complete');\n",
              "    }\n",
              "    (() => {\n",
              "      let quickchartButtonEl =\n",
              "        document.querySelector('#df-2cd43def-6bf6-4c0a-9dc0-c35ff6bc80ae button');\n",
              "      quickchartButtonEl.style.display =\n",
              "        google.colab.kernel.accessAllowed ? 'block' : 'none';\n",
              "    })();\n",
              "  </script>\n",
              "</div>\n",
              "    </div>\n",
              "  </div>\n"
            ]
          },
          "metadata": {},
          "execution_count": 152
        }
      ],
      "source": [
        "data[:78]"
      ]
    },
    {
      "cell_type": "code",
      "execution_count": null,
      "metadata": {
        "id": "N_JRaYvb2A71"
      },
      "outputs": [],
      "source": []
    },
    {
      "cell_type": "code",
      "execution_count": null,
      "metadata": {
        "id": "eY50ZAtU6rra"
      },
      "outputs": [],
      "source": [
        "\n"
      ]
    },
    {
      "cell_type": "code",
      "execution_count": null,
      "metadata": {
        "id": "nSy_lS_D6wOk"
      },
      "outputs": [],
      "source": []
    }
  ],
  "metadata": {
    "colab": {
      "provenance": [],
      "include_colab_link": true
    },
    "kernelspec": {
      "display_name": "Python 3",
      "language": "python",
      "name": "python3"
    },
    "language_info": {
      "codemirror_mode": {
        "name": "ipython",
        "version": 3
      },
      "file_extension": ".py",
      "mimetype": "text/x-python",
      "name": "python",
      "nbconvert_exporter": "python",
      "pygments_lexer": "ipython3",
      "version": "3.7.6"
    }
  },
  "nbformat": 4,
  "nbformat_minor": 0
}