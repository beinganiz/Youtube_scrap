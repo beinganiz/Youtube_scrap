{
  "cells": [
    {
      "cell_type": "markdown",
      "metadata": {
        "id": "view-in-github",
        "colab_type": "text"
      },
      "source": [
        "<a href=\"https://colab.research.google.com/github/beinganiz/selenium-you/blob/main/linkedin_scrape.ipynb\" target=\"_parent\"><img src=\"https://colab.research.google.com/assets/colab-badge.svg\" alt=\"Open In Colab\"/></a>"
      ]
    },
    {
      "cell_type": "markdown",
      "metadata": {
        "id": "8Ef_I477UA4R"
      },
      "source": [
        "# linkedin-scrape\n",
        "\n",
        "Use the \"Run\" button to execute the code."
      ]
    },
    {
      "cell_type": "code",
      "execution_count": 7,
      "metadata": {
        "colab": {
          "base_uri": "https://localhost:8080/"
        },
        "id": "7NpBFNhxUA4V",
        "outputId": "74fe64d9-edda-43e2-9ec6-35f83e1a1a6f"
      },
      "outputs": [
        {
          "output_type": "stream",
          "name": "stdout",
          "text": [
            "Requirement already satisfied: chromedriver in /usr/local/lib/python3.10/dist-packages (2.24.1)\n"
          ]
        }
      ],
      "source": [
        "pip install chromedriver"
      ]
    },
    {
      "cell_type": "code",
      "execution_count": 8,
      "metadata": {
        "colab": {
          "base_uri": "https://localhost:8080/"
        },
        "id": "feN8uxGxUI41",
        "outputId": "71828436-28fa-4a9f-f494-8893fcdadec4"
      },
      "outputs": [
        {
          "output_type": "stream",
          "name": "stdout",
          "text": [
            "Requirement already satisfied: selenium in /usr/local/lib/python3.10/dist-packages (4.14.0)\n",
            "Requirement already satisfied: urllib3[socks]<3,>=1.26 in /usr/local/lib/python3.10/dist-packages (from selenium) (2.0.6)\n",
            "Requirement already satisfied: trio~=0.17 in /usr/local/lib/python3.10/dist-packages (from selenium) (0.22.2)\n",
            "Requirement already satisfied: trio-websocket~=0.9 in /usr/local/lib/python3.10/dist-packages (from selenium) (0.11.1)\n",
            "Requirement already satisfied: certifi>=2021.10.8 in /usr/local/lib/python3.10/dist-packages (from selenium) (2023.7.22)\n",
            "Requirement already satisfied: attrs>=20.1.0 in /usr/local/lib/python3.10/dist-packages (from trio~=0.17->selenium) (23.1.0)\n",
            "Requirement already satisfied: sortedcontainers in /usr/local/lib/python3.10/dist-packages (from trio~=0.17->selenium) (2.4.0)\n",
            "Requirement already satisfied: idna in /usr/local/lib/python3.10/dist-packages (from trio~=0.17->selenium) (3.4)\n",
            "Requirement already satisfied: outcome in /usr/local/lib/python3.10/dist-packages (from trio~=0.17->selenium) (1.2.0)\n",
            "Requirement already satisfied: sniffio in /usr/local/lib/python3.10/dist-packages (from trio~=0.17->selenium) (1.3.0)\n",
            "Requirement already satisfied: exceptiongroup>=1.0.0rc9 in /usr/local/lib/python3.10/dist-packages (from trio~=0.17->selenium) (1.1.3)\n",
            "Requirement already satisfied: wsproto>=0.14 in /usr/local/lib/python3.10/dist-packages (from trio-websocket~=0.9->selenium) (1.2.0)\n",
            "Requirement already satisfied: pysocks!=1.5.7,<2.0,>=1.5.6 in /usr/local/lib/python3.10/dist-packages (from urllib3[socks]<3,>=1.26->selenium) (1.7.1)\n",
            "Requirement already satisfied: h11<1,>=0.9.0 in /usr/local/lib/python3.10/dist-packages (from wsproto>=0.14->trio-websocket~=0.9->selenium) (0.14.0)\n"
          ]
        }
      ],
      "source": [
        "pip install selenium"
      ]
    },
    {
      "cell_type": "code",
      "execution_count": 25,
      "metadata": {
        "id": "tNt4__XTULR9"
      },
      "outputs": [],
      "source": [
        "from selenium import webdriver\n",
        "import time\n",
        "import pandas as pd\n",
        "import os\n",
        "from selenium.webdriver.support.select import Select\n",
        "from selenium.webdriver.support.ui import WebDriverWait\n",
        "from selenium.webdriver.common.by import By\n",
        "from selenium.webdriver.support import expected_conditions as EC\n",
        "from selenium.webdriver.chrome.options import Options"
      ]
    },
    {
      "cell_type": "code",
      "source": [],
      "metadata": {
        "id": "b13R1nn9tj1D"
      },
      "execution_count": null,
      "outputs": []
    },
    {
      "cell_type": "markdown",
      "source": [
        "##Function Area"
      ],
      "metadata": {
        "id": "XWwSoXa5tkoO"
      }
    },
    {
      "cell_type": "code",
      "execution_count": 122,
      "metadata": {
        "id": "ubvTXS6XUw7m"
      },
      "outputs": [],
      "source": [
        "def driver_update():\n",
        "  chrome_options = Options()\n",
        "  chrome_options.add_argument('--no-sandbox')\n",
        "  chrome_options.add_argument('--disable-dev-shm-usage')\n",
        "  chrome_options.add_argument('--headless')\n",
        "  driver = webdriver.Chrome(options=chrome_options)\n",
        "  return driver\n",
        "def check(val):\n",
        "  if val[-1:]=='+':\n",
        "    val=val[:-1]\n",
        "  return val\n",
        "\n",
        "def fetching_all(jobs):\n",
        "  dict={'JOB_TITLE':[],'Company_Name':[],'link':[],'Location':[],'Time':[]}\n",
        "  company_class='base-search-card__subtitle'\n",
        "  job_class='base-search-card__title'\n",
        "  loc_class='job-search-card__location'\n",
        "  time_class='job-search-card__listdate'\n",
        "  link=driver.find_elements(By.CLASS_NAME,'hidden-nested-link')\n",
        "  title=driver.find_elements(By.CLASS_NAME,job_class)\n",
        "  company=driver.find_elements(By.CLASS_NAME,company_class)\n",
        "  loc=driver.find_elements(By.CLASS_NAME,loc_class)\n",
        "  time=driver.find_elements(By.CLASS_NAME,time_class)\n",
        "  for i in range(jobs):\n",
        "    driver.execute_script(\"window.scrollTo(0, document.body.scrollHeight);\")\n",
        "    dict['JOB_TITLE'].append(title[i].text)\n",
        "    dict['Company_Name'].append(company[i].text)\n",
        "    dict['link'].append(link[i].get_attribute('href'))\n",
        "    dict['Location'].append(loc[i].text)\n",
        "    dict['Time'].append(time[i].text)\n",
        "  return dict\n",
        "\n"
      ]
    },
    {
      "cell_type": "code",
      "execution_count": 136,
      "metadata": {
        "id": "IALozNN1VLDD"
      },
      "outputs": [],
      "source": [
        "url1='https://www.linkedin.com/jobs/search?keywords=Marketing%20Data%20Analyst&location=India%2C%20Berlin%2C%20Germany&geoI'\n",
        "url2='https://www.linkedin.com/jobs/search?keywords=Marketing%20Data%20Analyst&location=india&geoId=&trk=public_jobs_jobs-search-bar_search-submit&position=1&pageNum=0'\n",
        "if __name__==\"__main__\":\n",
        "  driver=driver_update()\n",
        "  driver.implicitly_wait(10)\n",
        "\n",
        "driver.get(url2)\n",
        "jobs_class='results-context-header__job-count'\n"
      ]
    },
    {
      "cell_type": "code",
      "source": [
        "length=driver.find_element(By.CLASS_NAME,jobs_class)\n",
        "dd=int(check(length.text).replace(',',''))\n",
        "dd"
      ],
      "metadata": {
        "colab": {
          "base_uri": "https://localhost:8080/"
        },
        "id": "8ggp9c6ZxmHQ",
        "outputId": "abd3d7e3-f09a-4a92-d25e-8063a7e6dd9a"
      },
      "execution_count": 137,
      "outputs": [
        {
          "output_type": "execute_result",
          "data": {
            "text/plain": [
              "2000"
            ]
          },
          "metadata": {},
          "execution_count": 137
        }
      ]
    },
    {
      "cell_type": "code",
      "execution_count": 143,
      "metadata": {
        "id": "OUw7sZIjsAk4"
      },
      "outputs": [],
      "source": [
        "fd=fetching_all(100)\n",
        "\n",
        "data=pd.DataFrame(fd)"
      ]
    },
    {
      "cell_type": "code",
      "execution_count": 144,
      "metadata": {
        "id": "nz-GJqrXs_m7",
        "colab": {
          "base_uri": "https://localhost:8080/",
          "height": 597
        },
        "outputId": "26d84f84-3307-4ffa-8c43-c64f7e379ea9"
      },
      "outputs": [
        {
          "output_type": "execute_result",
          "data": {
            "text/plain": [
              "                                            JOB_TITLE  \\\n",
              "0   Data Analyst / Business Analyst - (Freshers Ba...   \n",
              "1               Data Analyst – Supply Chain- Power BI   \n",
              "2       Data Analyst / Business Analyst (Urgent Need)   \n",
              "3                               Business Data Analyst   \n",
              "4   Analyst / Sr Analyst - Performance Marketing A...   \n",
              "..                                                ...   \n",
              "95                                        Seo Analyst   \n",
              "96                           Network Business Analyst   \n",
              "97                                   Sr Media Analyst   \n",
              "98                                   Sr Media Analyst   \n",
              "99            Campaign Analyst (PPC Campaign Analyst)   \n",
              "\n",
              "                                         Company_Name  \\\n",
              "0                                Prometrics Solutions   \n",
              "1   Dubai Jobs, Gulf Jobs, Jobs in Dubai, Qatar, K...   \n",
              "2                                Prometrics Solutions   \n",
              "3                                            Anblicks   \n",
              "4                              Global Talent Exchange   \n",
              "..                                                ...   \n",
              "95                      Nexplace Info Private Limited   \n",
              "96                                            Virtusa   \n",
              "97                                             Target   \n",
              "98                                             Target   \n",
              "99                                          FlairDeck   \n",
              "\n",
              "                                                 link  \\\n",
              "0   https://www.linkedin.com/company/prometrics-so...   \n",
              "1   https://in.linkedin.com/company/boyenhaddin?tr...   \n",
              "2   https://www.linkedin.com/company/prometrics-so...   \n",
              "3   https://www.linkedin.com/company/anblicks?trk=...   \n",
              "4   https://in.linkedin.com/company/globaltalex?tr...   \n",
              "..                                                ...   \n",
              "95  https://www.linkedin.com/company/target?trk=pu...   \n",
              "96  https://www.linkedin.com/company/target?trk=pu...   \n",
              "97  https://in.linkedin.com/company/flairdeck?trk=...   \n",
              "98  https://in.linkedin.com/company/pwc-acs-in-ind...   \n",
              "99  https://in.linkedin.com/company/smartq-bottlel...   \n",
              "\n",
              "                             Location          Time  \n",
              "0                               India    3 days ago  \n",
              "1          Pune/Pimpri-Chinchwad Area    1 week ago  \n",
              "2                               India    3 days ago  \n",
              "3         Hyderabad, Telangana, India    5 days ago  \n",
              "4          Mumbai, Maharashtra, India  2 months ago  \n",
              "..                                ...           ...  \n",
              "95        Bengaluru, Karnataka, India    4 days ago  \n",
              "96  Bangalore Urban, Karnataka, India   3 weeks ago  \n",
              "97        Bengaluru, Karnataka, India   1 month ago  \n",
              "98        Bengaluru, Karnataka, India  4 months ago  \n",
              "99         Mumbai, Maharashtra, India  3 months ago  \n",
              "\n",
              "[100 rows x 5 columns]"
            ],
            "text/html": [
              "\n",
              "  <div id=\"df-ee4bb267-af80-4367-b7d4-ce9865deeb85\" class=\"colab-df-container\">\n",
              "    <div>\n",
              "<style scoped>\n",
              "    .dataframe tbody tr th:only-of-type {\n",
              "        vertical-align: middle;\n",
              "    }\n",
              "\n",
              "    .dataframe tbody tr th {\n",
              "        vertical-align: top;\n",
              "    }\n",
              "\n",
              "    .dataframe thead th {\n",
              "        text-align: right;\n",
              "    }\n",
              "</style>\n",
              "<table border=\"1\" class=\"dataframe\">\n",
              "  <thead>\n",
              "    <tr style=\"text-align: right;\">\n",
              "      <th></th>\n",
              "      <th>JOB_TITLE</th>\n",
              "      <th>Company_Name</th>\n",
              "      <th>link</th>\n",
              "      <th>Location</th>\n",
              "      <th>Time</th>\n",
              "    </tr>\n",
              "  </thead>\n",
              "  <tbody>\n",
              "    <tr>\n",
              "      <th>0</th>\n",
              "      <td>Data Analyst / Business Analyst - (Freshers Ba...</td>\n",
              "      <td>Prometrics Solutions</td>\n",
              "      <td>https://www.linkedin.com/company/prometrics-so...</td>\n",
              "      <td>India</td>\n",
              "      <td>3 days ago</td>\n",
              "    </tr>\n",
              "    <tr>\n",
              "      <th>1</th>\n",
              "      <td>Data Analyst – Supply Chain- Power BI</td>\n",
              "      <td>Dubai Jobs, Gulf Jobs, Jobs in Dubai, Qatar, K...</td>\n",
              "      <td>https://in.linkedin.com/company/boyenhaddin?tr...</td>\n",
              "      <td>Pune/Pimpri-Chinchwad Area</td>\n",
              "      <td>1 week ago</td>\n",
              "    </tr>\n",
              "    <tr>\n",
              "      <th>2</th>\n",
              "      <td>Data Analyst / Business Analyst (Urgent Need)</td>\n",
              "      <td>Prometrics Solutions</td>\n",
              "      <td>https://www.linkedin.com/company/prometrics-so...</td>\n",
              "      <td>India</td>\n",
              "      <td>3 days ago</td>\n",
              "    </tr>\n",
              "    <tr>\n",
              "      <th>3</th>\n",
              "      <td>Business Data Analyst</td>\n",
              "      <td>Anblicks</td>\n",
              "      <td>https://www.linkedin.com/company/anblicks?trk=...</td>\n",
              "      <td>Hyderabad, Telangana, India</td>\n",
              "      <td>5 days ago</td>\n",
              "    </tr>\n",
              "    <tr>\n",
              "      <th>4</th>\n",
              "      <td>Analyst / Sr Analyst - Performance Marketing A...</td>\n",
              "      <td>Global Talent Exchange</td>\n",
              "      <td>https://in.linkedin.com/company/globaltalex?tr...</td>\n",
              "      <td>Mumbai, Maharashtra, India</td>\n",
              "      <td>2 months ago</td>\n",
              "    </tr>\n",
              "    <tr>\n",
              "      <th>...</th>\n",
              "      <td>...</td>\n",
              "      <td>...</td>\n",
              "      <td>...</td>\n",
              "      <td>...</td>\n",
              "      <td>...</td>\n",
              "    </tr>\n",
              "    <tr>\n",
              "      <th>95</th>\n",
              "      <td>Seo Analyst</td>\n",
              "      <td>Nexplace Info Private Limited</td>\n",
              "      <td>https://www.linkedin.com/company/target?trk=pu...</td>\n",
              "      <td>Bengaluru, Karnataka, India</td>\n",
              "      <td>4 days ago</td>\n",
              "    </tr>\n",
              "    <tr>\n",
              "      <th>96</th>\n",
              "      <td>Network Business Analyst</td>\n",
              "      <td>Virtusa</td>\n",
              "      <td>https://www.linkedin.com/company/target?trk=pu...</td>\n",
              "      <td>Bangalore Urban, Karnataka, India</td>\n",
              "      <td>3 weeks ago</td>\n",
              "    </tr>\n",
              "    <tr>\n",
              "      <th>97</th>\n",
              "      <td>Sr Media Analyst</td>\n",
              "      <td>Target</td>\n",
              "      <td>https://in.linkedin.com/company/flairdeck?trk=...</td>\n",
              "      <td>Bengaluru, Karnataka, India</td>\n",
              "      <td>1 month ago</td>\n",
              "    </tr>\n",
              "    <tr>\n",
              "      <th>98</th>\n",
              "      <td>Sr Media Analyst</td>\n",
              "      <td>Target</td>\n",
              "      <td>https://in.linkedin.com/company/pwc-acs-in-ind...</td>\n",
              "      <td>Bengaluru, Karnataka, India</td>\n",
              "      <td>4 months ago</td>\n",
              "    </tr>\n",
              "    <tr>\n",
              "      <th>99</th>\n",
              "      <td>Campaign Analyst (PPC Campaign Analyst)</td>\n",
              "      <td>FlairDeck</td>\n",
              "      <td>https://in.linkedin.com/company/smartq-bottlel...</td>\n",
              "      <td>Mumbai, Maharashtra, India</td>\n",
              "      <td>3 months ago</td>\n",
              "    </tr>\n",
              "  </tbody>\n",
              "</table>\n",
              "<p>100 rows × 5 columns</p>\n",
              "</div>\n",
              "    <div class=\"colab-df-buttons\">\n",
              "\n",
              "  <div class=\"colab-df-container\">\n",
              "    <button class=\"colab-df-convert\" onclick=\"convertToInteractive('df-ee4bb267-af80-4367-b7d4-ce9865deeb85')\"\n",
              "            title=\"Convert this dataframe to an interactive table.\"\n",
              "            style=\"display:none;\">\n",
              "\n",
              "  <svg xmlns=\"http://www.w3.org/2000/svg\" height=\"24px\" viewBox=\"0 -960 960 960\">\n",
              "    <path d=\"M120-120v-720h720v720H120Zm60-500h600v-160H180v160Zm220 220h160v-160H400v160Zm0 220h160v-160H400v160ZM180-400h160v-160H180v160Zm440 0h160v-160H620v160ZM180-180h160v-160H180v160Zm440 0h160v-160H620v160Z\"/>\n",
              "  </svg>\n",
              "    </button>\n",
              "\n",
              "  <style>\n",
              "    .colab-df-container {\n",
              "      display:flex;\n",
              "      gap: 12px;\n",
              "    }\n",
              "\n",
              "    .colab-df-convert {\n",
              "      background-color: #E8F0FE;\n",
              "      border: none;\n",
              "      border-radius: 50%;\n",
              "      cursor: pointer;\n",
              "      display: none;\n",
              "      fill: #1967D2;\n",
              "      height: 32px;\n",
              "      padding: 0 0 0 0;\n",
              "      width: 32px;\n",
              "    }\n",
              "\n",
              "    .colab-df-convert:hover {\n",
              "      background-color: #E2EBFA;\n",
              "      box-shadow: 0px 1px 2px rgba(60, 64, 67, 0.3), 0px 1px 3px 1px rgba(60, 64, 67, 0.15);\n",
              "      fill: #174EA6;\n",
              "    }\n",
              "\n",
              "    .colab-df-buttons div {\n",
              "      margin-bottom: 4px;\n",
              "    }\n",
              "\n",
              "    [theme=dark] .colab-df-convert {\n",
              "      background-color: #3B4455;\n",
              "      fill: #D2E3FC;\n",
              "    }\n",
              "\n",
              "    [theme=dark] .colab-df-convert:hover {\n",
              "      background-color: #434B5C;\n",
              "      box-shadow: 0px 1px 3px 1px rgba(0, 0, 0, 0.15);\n",
              "      filter: drop-shadow(0px 1px 2px rgba(0, 0, 0, 0.3));\n",
              "      fill: #FFFFFF;\n",
              "    }\n",
              "  </style>\n",
              "\n",
              "    <script>\n",
              "      const buttonEl =\n",
              "        document.querySelector('#df-ee4bb267-af80-4367-b7d4-ce9865deeb85 button.colab-df-convert');\n",
              "      buttonEl.style.display =\n",
              "        google.colab.kernel.accessAllowed ? 'block' : 'none';\n",
              "\n",
              "      async function convertToInteractive(key) {\n",
              "        const element = document.querySelector('#df-ee4bb267-af80-4367-b7d4-ce9865deeb85');\n",
              "        const dataTable =\n",
              "          await google.colab.kernel.invokeFunction('convertToInteractive',\n",
              "                                                    [key], {});\n",
              "        if (!dataTable) return;\n",
              "\n",
              "        const docLinkHtml = 'Like what you see? Visit the ' +\n",
              "          '<a target=\"_blank\" href=https://colab.research.google.com/notebooks/data_table.ipynb>data table notebook</a>'\n",
              "          + ' to learn more about interactive tables.';\n",
              "        element.innerHTML = '';\n",
              "        dataTable['output_type'] = 'display_data';\n",
              "        await google.colab.output.renderOutput(dataTable, element);\n",
              "        const docLink = document.createElement('div');\n",
              "        docLink.innerHTML = docLinkHtml;\n",
              "        element.appendChild(docLink);\n",
              "      }\n",
              "    </script>\n",
              "  </div>\n",
              "\n",
              "\n",
              "<div id=\"df-f665a9bf-85e5-4873-b006-86922465e00c\">\n",
              "  <button class=\"colab-df-quickchart\" onclick=\"quickchart('df-f665a9bf-85e5-4873-b006-86922465e00c')\"\n",
              "            title=\"Suggest charts.\"\n",
              "            style=\"display:none;\">\n",
              "\n",
              "<svg xmlns=\"http://www.w3.org/2000/svg\" height=\"24px\"viewBox=\"0 0 24 24\"\n",
              "     width=\"24px\">\n",
              "    <g>\n",
              "        <path d=\"M19 3H5c-1.1 0-2 .9-2 2v14c0 1.1.9 2 2 2h14c1.1 0 2-.9 2-2V5c0-1.1-.9-2-2-2zM9 17H7v-7h2v7zm4 0h-2V7h2v10zm4 0h-2v-4h2v4z\"/>\n",
              "    </g>\n",
              "</svg>\n",
              "  </button>\n",
              "\n",
              "<style>\n",
              "  .colab-df-quickchart {\n",
              "      --bg-color: #E8F0FE;\n",
              "      --fill-color: #1967D2;\n",
              "      --hover-bg-color: #E2EBFA;\n",
              "      --hover-fill-color: #174EA6;\n",
              "      --disabled-fill-color: #AAA;\n",
              "      --disabled-bg-color: #DDD;\n",
              "  }\n",
              "\n",
              "  [theme=dark] .colab-df-quickchart {\n",
              "      --bg-color: #3B4455;\n",
              "      --fill-color: #D2E3FC;\n",
              "      --hover-bg-color: #434B5C;\n",
              "      --hover-fill-color: #FFFFFF;\n",
              "      --disabled-bg-color: #3B4455;\n",
              "      --disabled-fill-color: #666;\n",
              "  }\n",
              "\n",
              "  .colab-df-quickchart {\n",
              "    background-color: var(--bg-color);\n",
              "    border: none;\n",
              "    border-radius: 50%;\n",
              "    cursor: pointer;\n",
              "    display: none;\n",
              "    fill: var(--fill-color);\n",
              "    height: 32px;\n",
              "    padding: 0;\n",
              "    width: 32px;\n",
              "  }\n",
              "\n",
              "  .colab-df-quickchart:hover {\n",
              "    background-color: var(--hover-bg-color);\n",
              "    box-shadow: 0 1px 2px rgba(60, 64, 67, 0.3), 0 1px 3px 1px rgba(60, 64, 67, 0.15);\n",
              "    fill: var(--button-hover-fill-color);\n",
              "  }\n",
              "\n",
              "  .colab-df-quickchart-complete:disabled,\n",
              "  .colab-df-quickchart-complete:disabled:hover {\n",
              "    background-color: var(--disabled-bg-color);\n",
              "    fill: var(--disabled-fill-color);\n",
              "    box-shadow: none;\n",
              "  }\n",
              "\n",
              "  .colab-df-spinner {\n",
              "    border: 2px solid var(--fill-color);\n",
              "    border-color: transparent;\n",
              "    border-bottom-color: var(--fill-color);\n",
              "    animation:\n",
              "      spin 1s steps(1) infinite;\n",
              "  }\n",
              "\n",
              "  @keyframes spin {\n",
              "    0% {\n",
              "      border-color: transparent;\n",
              "      border-bottom-color: var(--fill-color);\n",
              "      border-left-color: var(--fill-color);\n",
              "    }\n",
              "    20% {\n",
              "      border-color: transparent;\n",
              "      border-left-color: var(--fill-color);\n",
              "      border-top-color: var(--fill-color);\n",
              "    }\n",
              "    30% {\n",
              "      border-color: transparent;\n",
              "      border-left-color: var(--fill-color);\n",
              "      border-top-color: var(--fill-color);\n",
              "      border-right-color: var(--fill-color);\n",
              "    }\n",
              "    40% {\n",
              "      border-color: transparent;\n",
              "      border-right-color: var(--fill-color);\n",
              "      border-top-color: var(--fill-color);\n",
              "    }\n",
              "    60% {\n",
              "      border-color: transparent;\n",
              "      border-right-color: var(--fill-color);\n",
              "    }\n",
              "    80% {\n",
              "      border-color: transparent;\n",
              "      border-right-color: var(--fill-color);\n",
              "      border-bottom-color: var(--fill-color);\n",
              "    }\n",
              "    90% {\n",
              "      border-color: transparent;\n",
              "      border-bottom-color: var(--fill-color);\n",
              "    }\n",
              "  }\n",
              "</style>\n",
              "\n",
              "  <script>\n",
              "    async function quickchart(key) {\n",
              "      const quickchartButtonEl =\n",
              "        document.querySelector('#' + key + ' button');\n",
              "      quickchartButtonEl.disabled = true;  // To prevent multiple clicks.\n",
              "      quickchartButtonEl.classList.add('colab-df-spinner');\n",
              "      try {\n",
              "        const charts = await google.colab.kernel.invokeFunction(\n",
              "            'suggestCharts', [key], {});\n",
              "      } catch (error) {\n",
              "        console.error('Error during call to suggestCharts:', error);\n",
              "      }\n",
              "      quickchartButtonEl.classList.remove('colab-df-spinner');\n",
              "      quickchartButtonEl.classList.add('colab-df-quickchart-complete');\n",
              "    }\n",
              "    (() => {\n",
              "      let quickchartButtonEl =\n",
              "        document.querySelector('#df-f665a9bf-85e5-4873-b006-86922465e00c button');\n",
              "      quickchartButtonEl.style.display =\n",
              "        google.colab.kernel.accessAllowed ? 'block' : 'none';\n",
              "    })();\n",
              "  </script>\n",
              "</div>\n",
              "    </div>\n",
              "  </div>\n"
            ]
          },
          "metadata": {},
          "execution_count": 144
        }
      ],
      "source": [
        "data"
      ]
    },
    {
      "cell_type": "code",
      "execution_count": 69,
      "metadata": {
        "id": "J6tVOkwcuFit"
      },
      "outputs": [],
      "source": []
    },
    {
      "cell_type": "code",
      "execution_count": 94,
      "metadata": {
        "id": "N_JRaYvb2A71"
      },
      "outputs": [],
      "source": []
    },
    {
      "cell_type": "code",
      "execution_count": null,
      "metadata": {
        "id": "eY50ZAtU6rra"
      },
      "outputs": [],
      "source": [
        "\n"
      ]
    },
    {
      "cell_type": "code",
      "execution_count": null,
      "metadata": {
        "id": "nSy_lS_D6wOk"
      },
      "outputs": [],
      "source": []
    }
  ],
  "metadata": {
    "colab": {
      "provenance": [],
      "include_colab_link": true
    },
    "kernelspec": {
      "display_name": "Python 3",
      "language": "python",
      "name": "python3"
    },
    "language_info": {
      "codemirror_mode": {
        "name": "ipython",
        "version": 3
      },
      "file_extension": ".py",
      "mimetype": "text/x-python",
      "name": "python",
      "nbconvert_exporter": "python",
      "pygments_lexer": "ipython3",
      "version": "3.7.6"
    }
  },
  "nbformat": 4,
  "nbformat_minor": 0
}