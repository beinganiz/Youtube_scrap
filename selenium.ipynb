{
  "cells": [
    {
      "cell_type": "markdown",
      "metadata": {
        "id": "view-in-github",
        "colab_type": "text"
      },
      "source": [
        "<a href=\"https://colab.research.google.com/github/beinganiz/selenium-you/blob/main/selenium.ipynb\" target=\"_parent\"><img src=\"https://colab.research.google.com/assets/colab-badge.svg\" alt=\"Open In Colab\"/></a>"
      ]
    },
    {
      "cell_type": "markdown",
      "metadata": {
        "id": "LuFPgqHwRD8J"
      },
      "source": [
        "# selenium\n",
        "\n",
        "Use the \"Run\" button to execute the code."
      ]
    },
    {
      "cell_type": "markdown",
      "metadata": {
        "id": "1rn7eS5VSWqU"
      },
      "source": [
        "#Installation And Setting"
      ]
    },
    {
      "cell_type": "markdown",
      "metadata": {
        "id": "Xahy_0agSVhY"
      },
      "source": []
    },
    {
      "cell_type": "code",
      "execution_count": 63,
      "metadata": {
        "id": "6bilq6P2RD8Q",
        "colab": {
          "base_uri": "https://localhost:8080/"
        },
        "outputId": "3f4e3ff2-0a70-4957-ff88-c195c59ce33c"
      },
      "outputs": [
        {
          "output_type": "stream",
          "name": "stdout",
          "text": [
            "Requirement already satisfied: chromedriver in /usr/local/lib/python3.10/dist-packages (2.24.1)\n"
          ]
        }
      ],
      "source": [
        "pip install chromedriver"
      ]
    },
    {
      "cell_type": "code",
      "execution_count": 64,
      "metadata": {
        "id": "LbuMI7I4RKdf",
        "colab": {
          "base_uri": "https://localhost:8080/"
        },
        "outputId": "2eaa0db6-5cc2-4741-d273-81261102022a"
      },
      "outputs": [
        {
          "output_type": "stream",
          "name": "stdout",
          "text": [
            "Requirement already satisfied: selenium in /usr/local/lib/python3.10/dist-packages (4.14.0)\n",
            "Requirement already satisfied: urllib3[socks]<3,>=1.26 in /usr/local/lib/python3.10/dist-packages (from selenium) (2.0.6)\n",
            "Requirement already satisfied: trio~=0.17 in /usr/local/lib/python3.10/dist-packages (from selenium) (0.22.2)\n",
            "Requirement already satisfied: trio-websocket~=0.9 in /usr/local/lib/python3.10/dist-packages (from selenium) (0.11.1)\n",
            "Requirement already satisfied: certifi>=2021.10.8 in /usr/local/lib/python3.10/dist-packages (from selenium) (2023.7.22)\n",
            "Requirement already satisfied: attrs>=20.1.0 in /usr/local/lib/python3.10/dist-packages (from trio~=0.17->selenium) (23.1.0)\n",
            "Requirement already satisfied: sortedcontainers in /usr/local/lib/python3.10/dist-packages (from trio~=0.17->selenium) (2.4.0)\n",
            "Requirement already satisfied: idna in /usr/local/lib/python3.10/dist-packages (from trio~=0.17->selenium) (3.4)\n",
            "Requirement already satisfied: outcome in /usr/local/lib/python3.10/dist-packages (from trio~=0.17->selenium) (1.2.0)\n",
            "Requirement already satisfied: sniffio in /usr/local/lib/python3.10/dist-packages (from trio~=0.17->selenium) (1.3.0)\n",
            "Requirement already satisfied: exceptiongroup>=1.0.0rc9 in /usr/local/lib/python3.10/dist-packages (from trio~=0.17->selenium) (1.1.3)\n",
            "Requirement already satisfied: wsproto>=0.14 in /usr/local/lib/python3.10/dist-packages (from trio-websocket~=0.9->selenium) (1.2.0)\n",
            "Requirement already satisfied: pysocks!=1.5.7,<2.0,>=1.5.6 in /usr/local/lib/python3.10/dist-packages (from urllib3[socks]<3,>=1.26->selenium) (1.7.1)\n",
            "Requirement already satisfied: h11<1,>=0.9.0 in /usr/local/lib/python3.10/dist-packages (from wsproto>=0.14->trio-websocket~=0.9->selenium) (0.14.0)\n"
          ]
        }
      ],
      "source": [
        "pip install selenium"
      ]
    },
    {
      "cell_type": "code",
      "execution_count": 65,
      "metadata": {
        "id": "8E8MLf9rRVs-"
      },
      "outputs": [],
      "source": [
        "import requests\n",
        "from selenium import webdriver\n",
        "from selenium.webdriver.chrome.options import Options\n",
        "from selenium.webdriver.common.by import By\n",
        "import pandas as pd\n"
      ]
    },
    {
      "cell_type": "code",
      "execution_count": 66,
      "metadata": {
        "id": "tY8ykHKaRf1-"
      },
      "outputs": [],
      "source": [
        "url='https://www.youtube.com/feed/trending'\n",
        "from bs4 import BeautifulSoup as bs\n",
        "res=requests.get(url)\n",
        "txt=res.text\n",
        "doc=bs(txt,'html.parser')\n",
        "with open (\"trending.html\",'w') as f:\n",
        "     f.write(txt)"
      ]
    },
    {
      "cell_type": "code",
      "execution_count": 67,
      "metadata": {
        "id": "dTACcoID3z-V"
      },
      "outputs": [],
      "source": [
        "def driver_update():\n",
        "  chrome_options = Options()\n",
        "  chrome_options.add_argument('--no-sandbox')\n",
        "  chrome_options.add_argument('--disable-dev-shm-usage')\n",
        "  chrome_options.add_argument('--headless')\n",
        "  driver = webdriver.Chrome(options=chrome_options)\n",
        "  return driver\n",
        "\n",
        "if __name__==\"__main__\":\n",
        "  driver=driver_update()\n",
        "  driver.get(url)"
      ]
    },
    {
      "cell_type": "code",
      "execution_count": 80,
      "metadata": {
        "id": "ZhfEImqbBMWr"
      },
      "outputs": [],
      "source": [
        "video_tag='ytd-video-renderer'\n",
        "videos=driver.find_elements(By.TAG_NAME,video_tag)"
      ]
    },
    {
      "cell_type": "markdown",
      "metadata": {
        "id": "Ml0R2QRMDp4k"
      },
      "source": [
        "Fuction To Make Thing Easy"
      ]
    },
    {
      "cell_type": "code",
      "execution_count": 122,
      "metadata": {
        "id": "AHDVJMThAUlF"
      },
      "outputs": [],
      "source": [
        "def fetching_all(video):\n",
        "  dict={'title':[],'channel_name':[],'Description':[],'Views':[],'Time':[],'Link':[],'Thumbnail_url':[]}\n",
        "  for i in video:\n",
        "    title=i.find_element(By.ID,'video-title')\n",
        "    link=title.get_attribute('href')\n",
        "    title=title.text\n",
        "    channel_name=i.find_element(By.ID,'channel-name').text.strip()\n",
        "    description=i.find_element(By.ID,'description-text').text.strip()\n",
        "    det=i.find_elements(By.TAG_NAME,'span')\n",
        "    views=det[2].text\n",
        "    time=det[3].text\n",
        "    thumb_tag=i.find_elements(By.TAG_NAME,'img')\n",
        "    src=thumb_tag[0].get_attribute(\"src\")\n",
        "    dict['title'].append(title)\n",
        "    dict['channel_name'].append(channel_name)\n",
        "    dict['Description'].append(description)\n",
        "    dict['Views'].append(views)\n",
        "    dict['Time'].append(time)\n",
        "    dict['Link'].append(link)\n",
        "    dict['Thumbnail_url'].append(src)\n",
        "  return dict\n",
        "\n"
      ]
    },
    {
      "cell_type": "markdown",
      "metadata": {
        "id": "bD14AIDmSzSP"
      },
      "source": [
        "# Fetching Part"
      ]
    },
    {
      "cell_type": "markdown",
      "metadata": {
        "id": "ogaeiiVuSycv"
      },
      "source": [
        "\n",
        "\n",
        "\n",
        "1.   Description\n",
        "2.   Channel Name\n",
        "3.   Views\n",
        "4.   Link\n",
        "5.   List item\n",
        "6.   Title\n",
        "\n",
        "\n",
        "\n"
      ]
    },
    {
      "cell_type": "code",
      "execution_count": 123,
      "metadata": {
        "id": "SNDcqa61aTco"
      },
      "outputs": [],
      "source": [
        "Youtube_trending=fetching_all(videos)\n",
        "data=pd.DataFrame(Youtube_trending)"
      ]
    },
    {
      "cell_type": "code",
      "execution_count": null,
      "metadata": {
        "id": "MnWVV5zE8S-Q"
      },
      "outputs": [],
      "source": [
        "data"
      ]
    },
    {
      "cell_type": "code",
      "execution_count": 125,
      "metadata": {
        "id": "C2IbccI_T1qS"
      },
      "outputs": [],
      "source": [
        "data.to_csv('trending.csv')"
      ]
    },
    {
      "cell_type": "code",
      "execution_count": null,
      "metadata": {
        "id": "F5XDWmwJDa9k"
      },
      "outputs": [],
      "source": []
    },
    {
      "cell_type": "code",
      "execution_count": null,
      "metadata": {
        "id": "mHXB6rdeD9QZ"
      },
      "outputs": [],
      "source": []
    }
  ],
  "metadata": {
    "colab": {
      "provenance": [],
      "include_colab_link": true
    },
    "kernelspec": {
      "display_name": "Python 3 (ipykernel)",
      "language": "python",
      "name": "python3"
    },
    "language_info": {
      "codemirror_mode": {
        "name": "ipython",
        "version": 3
      },
      "file_extension": ".py",
      "mimetype": "text/x-python",
      "name": "python",
      "nbconvert_exporter": "python",
      "pygments_lexer": "ipython3",
      "version": "3.9.7"
    }
  },
  "nbformat": 4,
  "nbformat_minor": 0
}