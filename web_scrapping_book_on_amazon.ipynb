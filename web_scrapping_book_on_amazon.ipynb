{
  "cells": [
    {
      "cell_type": "markdown",
      "metadata": {
        "id": "view-in-github",
        "colab_type": "text"
      },
      "source": [
        "<a href=\"https://colab.research.google.com/github/beinganiz/Youtube_scrap/blob/main/web_scrapping_book_on_amazon.ipynb\" target=\"_parent\"><img src=\"https://colab.research.google.com/assets/colab-badge.svg\" alt=\"Open In Colab\"/></a>"
      ]
    },
    {
      "cell_type": "markdown",
      "metadata": {
        "id": "RYrxHcfZi2sH"
      },
      "source": [
        "# web-scrapping-book-on-amazon\n",
        "\n",
        "Use the \"Run\" button to execute the code."
      ]
    },
    {
      "cell_type": "code",
      "execution_count": null,
      "metadata": {
        "id": "0sR0ox3mi2sM"
      },
      "outputs": [],
      "source": [
        "pip install selenium"
      ]
    },
    {
      "cell_type": "code",
      "source": [
        "import pandas as pd\n",
        "import numpy as np\n",
        "import matplotlib.pyplot\n",
        "import seaborn as sea"
      ],
      "metadata": {
        "id": "52y5N6eh9cus"
      },
      "execution_count": 256,
      "outputs": []
    },
    {
      "cell_type": "code",
      "source": [
        "from selenium import webdriver\n",
        "import time\n",
        "import pandas as pd\n",
        "import os\n",
        "from selenium.webdriver.support.select import Select\n",
        "from selenium.webdriver.support.ui import WebDriverWait\n",
        "from selenium.webdriver.common.by import By\n",
        "from selenium.webdriver.support import expected_conditions as EC\n",
        "from selenium.webdriver.chrome.options import Options"
      ],
      "metadata": {
        "id": "rtLu9aXRjCgl"
      },
      "execution_count": 2,
      "outputs": []
    },
    {
      "cell_type": "code",
      "source": [
        "def driver_update():\n",
        "  chrome_options = Options()\n",
        "  chrome_options.add_argument('--no-sandbox')\n",
        "  chrome_options.add_argument('--disable-dev-shm-usage')\n",
        "  chrome_options.add_argument('--headless')\n",
        "  driver = webdriver.Chrome(options=chrome_options)\n",
        "  return driver\n",
        "\n",
        "if __name__==\"__main__\":\n",
        "  driver=driver_update()\n",
        "\n"
      ],
      "metadata": {
        "id": "R9R5d_r_jQiP"
      },
      "execution_count": 264,
      "outputs": []
    },
    {
      "cell_type": "code",
      "source": [
        "def all():\n",
        "  book_name_class='p13n-sc-uncoverable-faceout'\n",
        "  book=driver.find_elements(By.CLASS_NAME,book_name_class)\n",
        "  dict={'Name':[],'Author_Name':[],'People_Using':[],'Edition':[],'Price':[],'Link':[]}\n",
        "  for i in  range(0,len(book)):\n",
        "\n",
        "        #Book Name\n",
        "        book_name='_cDEzb_p13n-sc-css-line-clamp-1_1Fn1y'\n",
        "        name= book[i].find_element(By.CLASS_NAME,book_name).text\n",
        "\n",
        "\n",
        "        #Book Link\n",
        "        class_link = 'a-link-normal'\n",
        "        link = book[i].find_element(By.CLASS_NAME, class_link)\n",
        "        link_href = link.get_attribute('href')\n",
        "\n",
        "        #Book Details\n",
        "        book_det='a-row'\n",
        "        ed= book[i].find_elements(By.CLASS_NAME,book_det)\n",
        "        author=ed[0].text\n",
        "        people=ed[1].text\n",
        "        add=ed[2].text\n",
        "        price=ed[3].text\n",
        "\n",
        "        dict['Name'].append(name)\n",
        "        dict['Author_Name'].append(author)\n",
        "        dict['People_Using'].append(people)\n",
        "        dict['Edition'].append(add)\n",
        "        dict['Price'].append(price)\n",
        "        dict['Link'].append(link_href)\n",
        "\n",
        "  return dict"
      ],
      "metadata": {
        "id": "OVkHUFIf6_ZN"
      },
      "execution_count": 259,
      "outputs": []
    },
    {
      "cell_type": "code",
      "source": [
        "for i in range(1, 2+1):\n",
        "    url = f'https://www.amazon.in/gp/bestsellers/digital-text/1634753031/ref=zg_bs_pg_2_digital-text?ie=UTF8&pg={i}'\n",
        "    driver.get(url)\n",
        "    data=pd.DataFrame(all())"
      ],
      "metadata": {
        "id": "aNp8e2CZ71Qi"
      },
      "execution_count": 265,
      "outputs": []
    },
    {
      "cell_type": "code",
      "source": [
        "data.to_csv('Amazon_book.csv')"
      ],
      "metadata": {
        "id": "wLNq-zOO736D"
      },
      "execution_count": 267,
      "outputs": []
    },
    {
      "cell_type": "code",
      "source": [],
      "metadata": {
        "id": "sHe6LNNG_rXF"
      },
      "execution_count": null,
      "outputs": []
    }
  ],
  "metadata": {
    "kernelspec": {
      "display_name": "Python 3",
      "language": "python",
      "name": "python3"
    },
    "language_info": {
      "codemirror_mode": {
        "name": "ipython",
        "version": 3
      },
      "file_extension": ".py",
      "mimetype": "text/x-python",
      "name": "python",
      "nbconvert_exporter": "python",
      "pygments_lexer": "ipython3",
      "version": "3.7.6"
    },
    "colab": {
      "provenance": [],
      "include_colab_link": true
    }
  },
  "nbformat": 4,
  "nbformat_minor": 0
}